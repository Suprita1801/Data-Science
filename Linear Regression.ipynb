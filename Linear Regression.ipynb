Here is my first real case study project about "Predicting Price of the house" using logistic regression
