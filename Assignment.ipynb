{
 "cells": [
  {
   "cell_type": "markdown",
   "id": "e3929742",
   "metadata": {},
   "source": [
    "Import and Data Creation"
   ]
  },
  {
   "cell_type": "markdown",
   "id": "761cdf38",
   "metadata": {},
   "source": [
    "Setup : Import and Data Creation"
   ]
  },
  {
   "cell_type": "code",
   "execution_count": 3,
   "id": "1f54ce0b",
   "metadata": {},
   "outputs": [
    {
     "name": "stdout",
     "output_type": "stream",
     "text": [
      "           Bread  Cakes  Cookies  Muffins  Pies\n",
      "Monday        20     15       50       10     5\n",
      "Tuesday       25     18       55       12     6\n",
      "Wednesday     22     16       52       11     7\n",
      "Thursday      30     20       60       15    10\n",
      "Friday        35     25       65       20    15\n",
      "Saturday      40     30       70       25    18\n"
     ]
    }
   ],
   "source": [
    "import numpy as np\n",
    "import pandas as pd\n",
    "\n",
    "# Days and Products\n",
    "days = ['Monday', 'Tuesday', 'Wednesday', 'Thursday', 'Friday', 'Saturday']\n",
    "products = ['Bread', 'Cakes', 'Cookies', 'Muffins', 'Pies']\n",
    "\n",
    "# Sales data (rows=days, columns=products)\n",
    "sales_data = np.array([\n",
    "    [20, 15, 50, 10, 5],\n",
    "    [25, 18, 55, 12, 6],\n",
    "    [22, 16, 52, 11, 7],\n",
    "    [30, 20, 60, 15, 10],\n",
    "    [35, 25, 65, 20, 15],\n",
    "    [40, 30, 70, 25, 18]\n",
    "])\n",
    "\n",
    "# Convert to DataFrame for a clean table\n",
    "sales_df = pd.DataFrame(sales_data, index=days, columns=products)\n",
    "\n",
    "# Cost and Selling Prices\n",
    "cost_prices = np.array([10, 50, 5, 12, 20])\n",
    "selling_prices = np.array([15, 70, 8, 18, 30])\n",
    "\n",
    "print(sales_df)\n",
    "\n"
   ]
  },
  {
   "cell_type": "markdown",
   "id": "64a35d23",
   "metadata": {},
   "source": [
    "1. Total items sold for each product"
   ]
  },
  {
   "cell_type": "code",
   "execution_count": 4,
   "id": "0ff54c16",
   "metadata": {},
   "outputs": [
    {
     "name": "stdout",
     "output_type": "stream",
     "text": [
      "Total items sold: {'Bread': 172, 'Cakes': 124, 'Cookies': 352, 'Muffins': 93, 'Pies': 61}\n"
     ]
    }
   ],
   "source": [
    "total_items = np.sum(sales_data,axis=0)\n",
    "print(\"Total items sold:\",dict(zip(products,total_items)))"
   ]
  },
  {
   "cell_type": "markdown",
   "id": "dcc38523",
   "metadata": {},
   "source": [
    "2. Average items sold per product"
   ]
  },
  {
   "cell_type": "code",
   "execution_count": 5,
   "id": "3bf8b585",
   "metadata": {},
   "outputs": [
    {
     "name": "stdout",
     "output_type": "stream",
     "text": [
      "Average items sold: {'Bread': 28.666666666666668, 'Cakes': 20.666666666666668, 'Cookies': 58.666666666666664, 'Muffins': 15.5, 'Pies': 10.166666666666666}\n"
     ]
    }
   ],
   "source": [
    "average_items = np.mean(sales_data,axis=0)\n",
    "print(\"Average items sold:\",dict(zip(products,average_items)))"
   ]
  },
  {
   "cell_type": "markdown",
   "id": "6207d8ba",
   "metadata": {},
   "source": [
    "3. Total Revenue"
   ]
  },
  {
   "cell_type": "code",
   "execution_count": 6,
   "id": "26058a6d",
   "metadata": {},
   "outputs": [
    {
     "name": "stdout",
     "output_type": "stream",
     "text": [
      "Total Revenue of the week : $ 17580\n"
     ]
    }
   ],
   "source": [
    "total_revenue = np.sum(total_items*selling_prices)\n",
    "print(\"Total Revenue of the week : $\",total_revenue)"
   ]
  },
  {
   "cell_type": "markdown",
   "id": "8a928ebc",
   "metadata": {},
   "source": [
    "4. Profit of each product"
   ]
  },
  {
   "cell_type": "code",
   "execution_count": 7,
   "id": "37a518ab",
   "metadata": {},
   "outputs": [
    {
     "name": "stdout",
     "output_type": "stream",
     "text": [
      "Total profit of the week: $ 5564\n"
     ]
    }
   ],
   "source": [
    "profit_per_item = selling_prices - cost_prices\n",
    "total_profit = np.sum(total_items*profit_per_item)\n",
    "\n",
    "print(\"Total profit of the week: $\",total_profit)"
   ]
  },
  {
   "cell_type": "markdown",
   "id": "f61f1723",
   "metadata": {},
   "source": [
    "5. Maximum number of items sold for any product"
   ]
  },
  {
   "cell_type": "code",
   "execution_count": 8,
   "id": "c5be7911",
   "metadata": {},
   "outputs": [
    {
     "name": "stdout",
     "output_type": "stream",
     "text": [
      "Maximum items sold in a day for any product: 70\n"
     ]
    }
   ],
   "source": [
    "max_sold = np.max(sales_data)\n",
    "print(\"Maximum items sold in a day for any product:\",max_sold)"
   ]
  },
  {
   "cell_type": "markdown",
   "id": "e2f4091d",
   "metadata": {},
   "source": [
    "6. Add Leftover Inventory Dataset"
   ]
  },
  {
   "cell_type": "code",
   "execution_count": 10,
   "id": "1ed71802",
   "metadata": {},
   "outputs": [
    {
     "name": "stdout",
     "output_type": "stream",
     "text": [
      "Leftover Invemtory at end of the week:\n",
      "{'Bread': 5, 'Cakes': 2, 'Cookies': 10, 'Muffins': 3, 'Pies': 1}\n",
      "\n",
      " Total Inventory used (Sales + Leftovers):\n",
      "{'Bread': 177, 'Cakes': 126, 'Cookies': 362, 'Muffins': 96, 'Pies': 62}\n",
      "\n",
      "\n"
     ]
    }
   ],
   "source": [
    "leftover_inventory = np.array([5,2,10,3,1])\n",
    "\n",
    "total_inventory_used = total_items = np.sum(sales_data,axis=0) + leftover_inventory\n",
    "\n",
    "print(\"Leftover Invemtory at end of the week:\")\n",
    "print(dict(zip(products,leftover_inventory)))\n",
    "\n",
    "print(\"\\n Total Inventory used (Sales + Leftovers):\")\n",
    "print(dict(zip(products,total_inventory_used)))\n",
    "print(\"\\n\")\n"
   ]
  },
  {
   "cell_type": "markdown",
   "id": "b5fabfab",
   "metadata": {},
   "source": [
    "7. Create Sales Data for 2 weeks"
   ]
  },
  {
   "cell_type": "code",
   "execution_count": 12,
   "id": "b0502e49",
   "metadata": {},
   "outputs": [
    {
     "name": "stdout",
     "output_type": "stream",
     "text": [
      "Combinde Sales Data for Two weeks:\n",
      "             Bread  Cakes  Cookies  Muffins  Pies\n",
      "Monday          20     15       50       10     5\n",
      "Tuesday         25     18       55       12     6\n",
      "Wednesday       22     16       52       11     7\n",
      "Thursday        30     20       60       15    10\n",
      "Friday          35     25       65       20    15\n",
      "Saturday        40     30       70       25    18\n",
      "Monday_2        20     15       50       10     5\n",
      "Tuesday_2       25     18       55       12     6\n",
      "Wednesday_2     22     16       52       11     7\n",
      "Thursday_2      30     20       60       15    10\n",
      "Friday_2        35     25       65       20    15\n",
      "Saturday_2      40     30       70       25    18\n"
     ]
    }
   ],
   "source": [
    "sales_data_week2 = sales_data.copy()\n",
    "\n",
    "combined_sales_data = np.vstack((sales_data,sales_data_week2))\n",
    "\n",
    "day_weeks = ['Monday_2', 'Tuesday_2', 'Wednesday_2', 'Thursday_2', 'Friday_2', 'Saturday_2']\n",
    "\n",
    "all_days = days + day_weeks\n",
    "\n",
    "combined_sales_df = pd.DataFrame(combined_sales_data, index=all_days, columns=products)\n",
    "\n",
    "print(\"Combinde Sales Data for Two weeks:\")\n",
    "print(combined_sales_df)\n"
   ]
  },
  {
   "cell_type": "markdown",
   "id": "cd2e90d6",
   "metadata": {},
   "source": [
    "8. Weekday vs Weekend Sales"
   ]
  },
  {
   "cell_type": "code",
   "execution_count": 13,
   "id": "91578225",
   "metadata": {},
   "outputs": [
    {
     "name": "stdout",
     "output_type": "stream",
     "text": [
      "Total weekday sales: 619\n",
      "Total weekend sales: 183\n"
     ]
    }
   ],
   "source": [
    "weekday_sales = sales_data[:5]\n",
    "weekend_sales = sales_data[5:]\n",
    "\n",
    "weekday_total = np.sum(weekday_sales)\n",
    "weekend_total = np.sum(weekend_sales)\n",
    "\n",
    "print(\"Total weekday sales:\", weekday_total)\n",
    "print(\"Total weekend sales:\", weekend_total)\n"
   ]
  },
  {
   "cell_type": "code",
   "execution_count": null,
   "id": "914cbc1a",
   "metadata": {},
   "outputs": [],
   "source": [
    "9. Separate product cost prices"
   ]
  },
  {
   "cell_type": "code",
   "execution_count": 14,
   "id": "97bcd246",
   "metadata": {},
   "outputs": [
    {
     "name": "stdout",
     "output_type": "stream",
     "text": [
      "High-Value Product Cost Prices:\n",
      "{'Cakes': 50, 'Pies': 20}\n",
      "\n",
      "Low-Value Product Cost Prices:\n",
      "{'Bread': 10, 'Cookies': 5, 'Muffins': 12}\n",
      "\n",
      "\n"
     ]
    }
   ],
   "source": [
    "\n",
    "high_value_products = ['Cakes', 'Pies']\n",
    "high_value_indices = [products.index(p) for p in high_value_products]\n",
    "high_value_cost_prices = cost_prices[high_value_indices]\n",
    "\n",
    "\n",
    "low_value_products = ['Bread', 'Cookies', 'Muffins']\n",
    "low_value_indices = [products.index(p) for p in low_value_products]\n",
    "low_value_cost_prices = cost_prices[low_value_indices]\n",
    "\n",
    "\n",
    "print(\"High-Value Product Cost Prices:\")\n",
    "print(dict(zip(high_value_products, high_value_cost_prices)))\n",
    "\n",
    "print(\"\\nLow-Value Product Cost Prices:\")\n",
    "print(dict(zip(low_value_products, low_value_cost_prices)))\n",
    "print(\"\\n\")"
   ]
  },
  {
   "cell_type": "markdown",
   "id": "ef1c37b8",
   "metadata": {},
   "source": [
    "10. Day with highest pies sold"
   ]
  },
  {
   "cell_type": "code",
   "execution_count": 16,
   "id": "a8d81223",
   "metadata": {},
   "outputs": [
    {
     "name": "stdout",
     "output_type": "stream",
     "text": [
      "Day with highest pies sold: Saturday\n"
     ]
    }
   ],
   "source": [
    "pie_sales = sales_data[:, 4]\n",
    "max_pies_day = days[np.argmax(pie_sales)]\n",
    "print(\"Day with highest pies sold:\",max_pies_day)"
   ]
  },
  {
   "cell_type": "markdown",
   "id": "c8756b75",
   "metadata": {},
   "source": [
    " 11. Days where more than 60 cookies were sold\n"
   ]
  },
  {
   "cell_type": "code",
   "execution_count": 17,
   "id": "d71b4fc6",
   "metadata": {},
   "outputs": [
    {
     "name": "stdout",
     "output_type": "stream",
     "text": [
      "Days with more than 60 cookies sold: ['Friday', 'Saturday']\n"
     ]
    }
   ],
   "source": [
    "cookie_sales = sales_data[:, 2]\n",
    "days_more_than_60_cookies = [days[i] for i in range(len(days)) if cookie_sales[i] > 60]\n",
    "print(\"Days with more than 60 cookies sold:\", days_more_than_60_cookies)"
   ]
  },
  {
   "cell_type": "markdown",
   "id": "d1d18537",
   "metadata": {},
   "source": [
    "12. Muffins least to most sold"
   ]
  },
  {
   "cell_type": "code",
   "execution_count": 18,
   "id": "22666526",
   "metadata": {},
   "outputs": [
    {
     "name": "stdout",
     "output_type": "stream",
     "text": [
      "Muffins sales sorted: [(10, 'Monday'), (11, 'Wednesday'), (12, 'Tuesday'), (15, 'Thursday'), (20, 'Friday'), (25, 'Saturday')]\n"
     ]
    }
   ],
   "source": [
    "muffin_sales = sales_data[:, 3]\n",
    "sorted_muffins = sorted(zip(muffin_sales, days))\n",
    "print(\"Muffins sales sorted:\", sorted_muffins)"
   ]
  },
  {
   "cell_type": "markdown",
   "id": "18997597",
   "metadata": {},
   "source": [
    "13. Bread sales best to worst"
   ]
  },
  {
   "cell_type": "code",
   "execution_count": 19,
   "id": "601ebb7d",
   "metadata": {},
   "outputs": [
    {
     "name": "stdout",
     "output_type": "stream",
     "text": [
      "Bread sales sorted best to worst: [(40, 'Saturday'), (35, 'Friday'), (30, 'Thursday'), (25, 'Tuesday'), (22, 'Wednesday'), (20, 'Monday')]\n"
     ]
    }
   ],
   "source": [
    "bread_sales = sales_data[:, 0]\n",
    "sorted_bread = sorted(zip(bread_sales, days), reverse=True)\n",
    "print(\"Bread sales sorted best to worst:\", sorted_bread)"
   ]
  },
  {
   "cell_type": "markdown",
   "id": "2c1bf861",
   "metadata": {},
   "source": [
    "14. Wednesday sales"
   ]
  },
  {
   "cell_type": "code",
   "execution_count": 20,
   "id": "0806416d",
   "metadata": {},
   "outputs": [
    {
     "name": "stdout",
     "output_type": "stream",
     "text": [
      "Wednesday sales: {'Bread': 22, 'Cakes': 16, 'Cookies': 52, 'Muffins': 11, 'Pies': 7}\n"
     ]
    }
   ],
   "source": [
    "wednesday_sales = sales_data[2]\n",
    "print(\"Wednesday sales:\", dict(zip(products, wednesday_sales)))"
   ]
  },
  {
   "cell_type": "code",
   "execution_count": null,
   "id": "73deb53a",
   "metadata": {},
   "outputs": [],
   "source": [
    "15. Weekend Muffins sales (Saturday only)"
   ]
  },
  {
   "cell_type": "code",
   "execution_count": 21,
   "id": "60467353",
   "metadata": {},
   "outputs": [
    {
     "name": "stdout",
     "output_type": "stream",
     "text": [
      "Muffin sales on Saturday: 25\n"
     ]
    }
   ],
   "source": [
    "weekend_muffins = sales_data[5, 3]\n",
    "print(\"Muffin sales on Saturday:\", weekend_muffins)"
   ]
  },
  {
   "cell_type": "markdown",
   "id": "8bf028ac",
   "metadata": {},
   "source": [
    "16. Reorder the daily sales data based on bread sales, showing the best-performing days first."
   ]
  },
  {
   "cell_type": "code",
   "execution_count": 32,
   "id": "7d1f78c1",
   "metadata": {},
   "outputs": [
    {
     "name": "stdout",
     "output_type": "stream",
     "text": [
      "Reordered sales data based on bread sales:\n",
      "Saturday: [40 30 70 25 18]\n",
      "Friday: [35 25 65 20 15]\n",
      "Thursday: [30 20 60 15 10]\n",
      "Tuesday: [25 18 55 12  6]\n",
      "Wednesday: [22 16 52 11  7]\n",
      "Monday: [20 15 50 10  5]\n",
      "\n",
      "\n"
     ]
    }
   ],
   "source": [
    "bread_sales = sales_data[:, 0]  \n",
    "sorted_indices = np.argsort(bread_sales)[::-1]  \n",
    "reordered_sales_data = sales_data[sorted_indices]\n",
    "reordered_days = np.array(days)[sorted_indices]\n",
    "\n",
    "print(\"Reordered sales data based on bread sales:\")\n",
    "for i in range(len(reordered_days)):\n",
    "    print(f\"{reordered_days[i]}: {reordered_sales_data[i]}\")\n",
    "\n",
    "print(\"\\n\")"
   ]
  },
  {
   "cell_type": "markdown",
   "id": "7d18371e",
   "metadata": {},
   "source": [
    "17. Extract the sales data for Wednesday to analyze the mid-week performance.\n"
   ]
  },
  {
   "cell_type": "code",
   "execution_count": 33,
   "id": "db75b207",
   "metadata": {},
   "outputs": [
    {
     "name": "stdout",
     "output_type": "stream",
     "text": [
      "Wednesday's sales data: [22 16 52 11  7]\n",
      "\n",
      "\n"
     ]
    }
   ],
   "source": [
    "wednesday_sales = sales_data[2]  \n",
    "print(\"Wednesday's sales data:\", wednesday_sales)\n",
    "print(\"\\n\")"
   ]
  },
  {
   "cell_type": "markdown",
   "id": "6c17f417",
   "metadata": {},
   "source": [
    "18. Duplicate and simulate 10% demand increase"
   ]
  },
  {
   "cell_type": "code",
   "execution_count": 22,
   "id": "0ce02064",
   "metadata": {},
   "outputs": [
    {
     "name": "stdout",
     "output_type": "stream",
     "text": [
      "Increased Sales Data:\n",
      " [[22 16 55 11  5]\n",
      " [27 19 60 13  6]\n",
      " [24 17 57 12  7]\n",
      " [33 22 66 16 11]\n",
      " [38 27 71 22 16]\n",
      " [44 33 77 27 19]]\n"
     ]
    }
   ],
   "source": [
    "sales_data_copy = sales_data.copy()\n",
    "increased_sales_data = (sales_data_copy * 1.1).astype(int)\n",
    "print(\"Increased Sales Data:\\n\", increased_sales_data)"
   ]
  },
  {
   "cell_type": "markdown",
   "id": "994e04b6",
   "metadata": {},
   "source": [
    " 19. Confirm original unchanged"
   ]
  },
  {
   "cell_type": "code",
   "execution_count": 23,
   "id": "b2645fa6",
   "metadata": {},
   "outputs": [
    {
     "name": "stdout",
     "output_type": "stream",
     "text": [
      "Original Sales Data:\n",
      " [[20 15 50 10  5]\n",
      " [25 18 55 12  6]\n",
      " [22 16 52 11  7]\n",
      " [30 20 60 15 10]\n",
      " [35 25 65 20 15]\n",
      " [40 30 70 25 18]]\n"
     ]
    }
   ],
   "source": [
    "print(\"Original Sales Data:\\n\", sales_data)"
   ]
  },
  {
   "cell_type": "markdown",
   "id": "6d24a216",
   "metadata": {},
   "source": [
    " 20. Flatten into single row"
   ]
  },
  {
   "cell_type": "code",
   "execution_count": 24,
   "id": "f4170799",
   "metadata": {},
   "outputs": [
    {
     "name": "stdout",
     "output_type": "stream",
     "text": [
      "Flattened sales: [20 15 50 10  5 25 18 55 12  6 22 16 52 11  7 30 20 60 15 10 35 25 65 20\n",
      " 15 40 30 70 25 18]\n"
     ]
    }
   ],
   "source": [
    "flattened_sales = sales_data.flatten()\n",
    "print(\"Flattened sales:\", flattened_sales)"
   ]
  },
  {
   "cell_type": "markdown",
   "id": "3fab35c4",
   "metadata": {},
   "source": [
    "21. Change structure: (6 days × 5 products) → (5 rows × 6 columns)"
   ]
  },
  {
   "cell_type": "code",
   "execution_count": 25,
   "id": "934c0a00",
   "metadata": {},
   "outputs": [
    {
     "name": "stdout",
     "output_type": "stream",
     "text": [
      "Reshaped Sales Data (5x6):\n",
      " [[20 15 50 10  5 25]\n",
      " [18 55 12  6 22 16]\n",
      " [52 11  7 30 20 60]\n",
      " [15 10 35 25 65 20]\n",
      " [15 40 30 70 25 18]]\n"
     ]
    }
   ],
   "source": [
    "reshaped_sales = sales_data.reshape(5,6)\n",
    "print(\"Reshaped Sales Data (5x6):\\n\", reshaped_sales)"
   ]
  },
  {
   "cell_type": "markdown",
   "id": "b22f76b3",
   "metadata": {},
   "source": [
    "22. Identity matrix (promotional discount example)"
   ]
  },
  {
   "cell_type": "code",
   "execution_count": 26,
   "id": "621e3b5b",
   "metadata": {},
   "outputs": [
    {
     "name": "stdout",
     "output_type": "stream",
     "text": [
      "Adjusted Cost Prices Matrix:\n",
      " [[10.  0.  0.  0.  0.]\n",
      " [ 0. 50.  0.  0.  0.]\n",
      " [ 0.  0.  5.  0.  0.]\n",
      " [ 0.  0.  0. 12.  0.]\n",
      " [ 0.  0.  0.  0. 20.]]\n"
     ]
    }
   ],
   "source": [
    "identity_matrix = np.identity(5)\n",
    "adjusted_cost = cost_prices * identity_matrix\n",
    "print(\"Adjusted Cost Prices Matrix:\\n\", adjusted_cost)"
   ]
  },
  {
   "cell_type": "markdown",
   "id": "9db211e8",
   "metadata": {},
   "source": [
    "23. Diagonal matrix for revenu"
   ]
  },
  {
   "cell_type": "code",
   "execution_count": 27,
   "id": "b3e437e6",
   "metadata": {},
   "outputs": [
    {
     "name": "stdout",
     "output_type": "stream",
     "text": [
      "Revenue Diagonal Matrix:\n",
      " [[2655    0    0    0    0]\n",
      " [   0 8820    0    0    0]\n",
      " [   0    0 2896    0    0]\n",
      " [   0    0    0 1728    0]\n",
      " [   0    0    0    0 1860]]\n"
     ]
    }
   ],
   "source": [
    "revenue_diag = np.diag(total_items * selling_prices)\n",
    "print(\"Revenue Diagonal Matrix:\\n\", revenue_diag)"
   ]
  },
  {
   "cell_type": "markdown",
   "id": "b10d11de",
   "metadata": {},
   "source": [
    "24. Change the structure of the sales data to have 5 rows and 7 columns instead of 7 rows and 5 columns, ensuring the data integrity is maintained.\n"
   ]
  },
  {
   "cell_type": "code",
   "execution_count": 34,
   "id": "8bf7fb2a",
   "metadata": {},
   "outputs": [
    {
     "name": "stdout",
     "output_type": "stream",
     "text": [
      "Reshaped sales data (5 rows x 7 columns):\n",
      "[['20.0' '25.0' '22.0' '30.0' '35.0' '40.0' '0.0']\n",
      " ['15.0' '18.0' '16.0' '20.0' '25.0' '30.0' '0.0']\n",
      " ['50.0' '55.0' '52.0' '60.0' '65.0' '70.0' '0.0']\n",
      " ['10.0' '12.0' '11.0' '15.0' '20.0' '25.0' '0.0']\n",
      " ['5.0' '6.0' '7.0' '10.0' '15.0' '18.0' '0.0']\n",
      " ['Monday' 'Tuesday' 'Wednesday' 'Thursday' 'Friday' 'Saturday' 'Sunday']]\n",
      "\n",
      "\n"
     ]
    }
   ],
   "source": [
    "sales_data_with_sunday = np.vstack([sales_data, np.zeros(5)])\n",
    "reshaped_sales_data = sales_data_with_sunday.T\n",
    "new_days = days + [\"Sunday\"]\n",
    "combined_data = np.vstack((reshaped_sales_data, new_days))\n",
    "\n",
    "print(\"Reshaped sales data (5 rows x 7 columns):\")\n",
    "print(combined_data)\n",
    "print(\"\\n\")"
   ]
  },
  {
   "cell_type": "markdown",
   "id": "93cfaa5f",
   "metadata": {},
   "source": [
    "25. Apply a 5x5 matrix where the diagonal values represent a specific product’s promotional discount (use identity values). Calculate the adjusted cost prices."
   ]
  },
  {
   "cell_type": "code",
   "execution_count": 35,
   "id": "c27f1b99",
   "metadata": {},
   "outputs": [
    {
     "name": "stdout",
     "output_type": "stream",
     "text": [
      "Adjusted cost prices after discount: [ 9.  45.   4.5 10.8 18. ]\n",
      "\n",
      "\n"
     ]
    }
   ],
   "source": [
    "discount_matrix = np.identity(5) * 0.9  # 10% discount for all products\n",
    "adjusted_cost_prices = cost_prices * np.diag(discount_matrix)\n",
    "\n",
    "print(\"Adjusted cost prices after discount:\", adjusted_cost_prices)\n",
    "print(\"\\n\")\n",
    "\n"
   ]
  },
  {
   "cell_type": "markdown",
   "id": "4a49aac1",
   "metadata": {},
   "source": [
    "26. Use a diagonal matrix to highlight the importance of individual products based on their contribution to revenue."
   ]
  },
  {
   "cell_type": "code",
   "execution_count": 36,
   "id": "5a41c65e",
   "metadata": {},
   "outputs": [
    {
     "name": "stdout",
     "output_type": "stream",
     "text": [
      "Importance matrix based on revenue contribution:\n",
      "[[0.14675768 0.         0.         0.         0.        ]\n",
      " [0.         0.49374289 0.         0.         0.        ]\n",
      " [0.         0.         0.16018203 0.         0.        ]\n",
      " [0.         0.         0.         0.09522184 0.        ]\n",
      " [0.         0.         0.         0.         0.10409556]]\n",
      "\n",
      "\n"
     ]
    }
   ],
   "source": [
    "weekly_revenue = np.sum(sales_data * selling_prices, axis=0)\n",
    "total_revenue = np.sum(weekly_revenue)\n",
    "importance_weights = weekly_revenue / total_revenue\n",
    "importance_matrix = np.diag(importance_weights)\n",
    "\n",
    "print(\"Importance matrix based on revenue contribution:\")\n",
    "print(importance_matrix)\n",
    "print(\"\\n\")"
   ]
  },
  {
   "cell_type": "markdown",
   "id": "aeb3009e",
   "metadata": {},
   "source": [
    "27. Create a diagonal structure representing the selling prices of the products and use it to calculate the revenue in a new way."
   ]
  },
  {
   "cell_type": "code",
   "execution_count": 37,
   "id": "e1ec724a",
   "metadata": {},
   "outputs": [
    {
     "name": "stdout",
     "output_type": "stream",
     "text": [
      "Weekly revenue calculated using selling price matrix: [2580 8680 2816 1674 1830]\n",
      "\n",
      "\n"
     ]
    }
   ],
   "source": [
    "selling_price_matrix = np.diag(selling_prices)\n",
    "daily_revenue_matrix = sales_data @ selling_price_matrix\n",
    "weekly_revenue_alt = np.sum(daily_revenue_matrix, axis=0)\n",
    "\n",
    "print(\"Weekly revenue calculated using selling price matrix:\", weekly_revenue_alt)\n",
    "print(\"\\n\")\n"
   ]
  },
  {
   "cell_type": "markdown",
   "id": "c9b542c2",
   "metadata": {},
   "source": [
    "28. Replace Friday's sales with avg of Mon-Thu"
   ]
  },
  {
   "cell_type": "code",
   "execution_count": 28,
   "id": "24333dfc",
   "metadata": {},
   "outputs": [
    {
     "name": "stdout",
     "output_type": "stream",
     "text": [
      "Sales data after replacing Friday:\n",
      " [[20 15 50 10  5]\n",
      " [25 18 55 12  6]\n",
      " [22 16 52 11  7]\n",
      " [30 20 60 15 10]\n",
      " [24 17 54 12  7]\n",
      " [40 30 70 25 18]]\n"
     ]
    }
   ],
   "source": [
    "average_mon_thu = np.mean(sales_data[0:4], axis=0)\n",
    "sales_data_modified = sales_data.copy()\n",
    "sales_data_modified[4] = average_mon_thu.astype(int)\n",
    "print(\"Sales data after replacing Friday:\\n\", sales_data_modified)"
   ]
  },
  {
   "cell_type": "markdown",
   "id": "47588709",
   "metadata": {},
   "source": [
    "29. Compare total weekday sales to total weekend sales for all products."
   ]
  },
  {
   "cell_type": "code",
   "execution_count": 38,
   "id": "7ecef4e8",
   "metadata": {},
   "outputs": [
    {
     "name": "stdout",
     "output_type": "stream",
     "text": [
      "Weekday vs. Weekend Sales (Total):\n",
      "Bread: Weekday = 132, Weekend = 40\n",
      "Cakes: Weekday = 94, Weekend = 30\n",
      "Cookies: Weekday = 282, Weekend = 70\n",
      "Muffins: Weekday = 68, Weekend = 25\n",
      "Pies: Weekday = 43, Weekend = 18\n",
      "\n",
      "\n"
     ]
    }
   ],
   "source": [
    "weekday_sales = np.sum(sales_data[:5], axis=0)  # Monday to Friday\n",
    "weekend_sales = np.sum(sales_data[5:], axis=0)  # Saturday\n",
    "\n",
    "print(\"Weekday vs. Weekend Sales (Total):\")\n",
    "for i in range(len(products)):\n",
    "    print(f\"{products[i]}: Weekday = {weekday_sales[i]}, Weekend = {weekend_sales[i]}\")\n",
    "print(\"\\n\")"
   ]
  },
  {
   "cell_type": "markdown",
   "id": "059360f1",
   "metadata": {},
   "source": [
    "30. Identify which product sells the most during the weekend compared to weekdays."
   ]
  },
  {
   "cell_type": "code",
   "execution_count": 39,
   "id": "eff13b28",
   "metadata": {},
   "outputs": [
    {
     "name": "stdout",
     "output_type": "stream",
     "text": [
      "Product with the highest sales difference (weekend vs. weekday): Pies\n"
     ]
    }
   ],
   "source": [
    "weekend_vs_weekday_diff = weekend_sales - weekday_sales\n",
    "most_sold_product_index = np.argmax(weekend_vs_weekday_diff)\n",
    "most_sold_product = products[most_sold_product_index]\n",
    "\n",
    "print(\"Product with the highest sales difference (weekend vs. weekday):\", most_sold_product)"
   ]
  }
 ],
 "metadata": {
  "kernelspec": {
   "display_name": "base",
   "language": "python",
   "name": "python3"
  },
  "language_info": {
   "codemirror_mode": {
    "name": "ipython",
    "version": 3
   },
   "file_extension": ".py",
   "mimetype": "text/x-python",
   "name": "python",
   "nbconvert_exporter": "python",
   "pygments_lexer": "ipython3",
   "version": "3.12.7"
  }
 },
 "nbformat": 4,
 "nbformat_minor": 5
}
